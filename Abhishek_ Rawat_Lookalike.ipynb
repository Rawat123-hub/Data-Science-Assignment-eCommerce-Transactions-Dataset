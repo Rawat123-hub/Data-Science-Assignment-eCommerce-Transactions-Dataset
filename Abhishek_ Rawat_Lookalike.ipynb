{
 "cells": [
  {
   "cell_type": "markdown",
   "id": "b9027f76-bd8a-45fc-ad34-28bb25c8ac2e",
   "metadata": {},
   "source": [
    "# Task 2: Lookalike Model"
   ]
  },
  {
   "cell_type": "code",
   "execution_count": null,
   "id": "799969f5-d338-4f8b-bde2-f3742029509c",
   "metadata": {},
   "outputs": [],
   "source": [
    "from sklearn.metrics.pairwise import cosine_similarity\n",
    "import numpy as np"
   ]
  },
  {
   "cell_type": "code",
   "execution_count": null,
   "id": "bf06379f-e198-4e7e-8217-808737a87815",
   "metadata": {},
   "outputs": [],
   "source": [
    "# Merge transactions with products and customers\n",
    "transactions_products = transactions.merge(products, on=\"ProductID\")\n",
    "full_data = transactions_products.merge(customers, on=\"CustomerID\")"
   ]
  },
  {
   "cell_type": "code",
   "execution_count": null,
   "id": "e54d6b0d-bbc8-4db5-9537-9179f3e61765",
   "metadata": {},
   "outputs": [],
   "source": [
    "# Feature engineering: Aggregate data for customer profiles\n",
    "customer_profiles = full_data.groupby('CustomerID').agg(\n",
    "    TotalSpending=('TotalValue', 'sum'),\n",
    "    TransactionCount=('TransactionID', 'count'),\n",
    "    AvgTransactionValue=('TotalValue', 'mean'),\n",
    "    CategoryBooks=('Category', lambda x: (x == 'Books').sum()),\n",
    "    CategoryElectronics=('Category', lambda x: (x == 'Electronics').sum()),\n",
    "    CategoryClothing=('Category', lambda x: (x == 'Clothing').sum()),\n",
    "    CategoryHomeDecor=('Category', lambda x: (x == 'Home Decor').sum())\n",
    ").reset_index()"
   ]
  },
  {
   "cell_type": "code",
   "execution_count": null,
   "id": "f3c58879-8778-4f6f-9945-bd1f764725de",
   "metadata": {},
   "outputs": [],
   "source": [
    "# Normalize numerical features for similarity computation\n",
    "features = ['TotalSpending', 'TransactionCount', 'AvgTransactionValue',\n",
    "            'CategoryBooks', 'CategoryElectronics', 'CategoryClothing', 'CategoryHomeDecor']\n",
    "customer_profiles_normalized = customer_profiles.copy()\n",
    "customer_profiles_normalized[features] = (\n",
    "    customer_profiles[features] - customer_profiles[features].mean()\n",
    ") / customer_profiles[features].std()"
   ]
  },
  {
   "cell_type": "code",
   "execution_count": null,
   "id": "7a89e703-6f45-467c-9d2e-1e924de87b64",
   "metadata": {},
   "outputs": [],
   "source": [
    "# Compute similarity scores using cosine similarity\n",
    "customer_vectors = customer_profiles_normalized[features].values\n",
    "similarity_matrix = cosine_similarity(customer_vectors)\n"
   ]
  },
  {
   "cell_type": "code",
   "execution_count": null,
   "id": "f8aa48e6-e3af-4dcc-8bb3-d48e6ace9f70",
   "metadata": {},
   "outputs": [],
   "source": [
    "# Extract top 3 similar customers for the first 20 customers\n",
    "lookalikes = {}\n",
    "for i, cust_id in enumerate(customer_profiles['CustomerID'][:20]):\n",
    "    similarities = list(enumerate(similarity_matrix[i]))\n",
    "    top_similar = sorted(similarities, key=lambda x: x[1], reverse=True)[1:4]\n",
    "    lookalikes[cust_id] = [(customer_profiles['CustomerID'][j], round(score, 4)) for j, score in top_similar]"
   ]
  },
  {
   "cell_type": "code",
   "execution_count": null,
   "id": "f43221ee-f6fe-4fba-9fc4-252657179eb0",
   "metadata": {},
   "outputs": [],
   "source": [
    "# Convert to DataFrame for export\n",
    "lookalike_df = pd.DataFrame({\n",
    "    'CustomerID': lookalikes.keys(),\n",
    "    'Lookalikes': [str(v) for v in lookalikes.values()]\n",
    "})"
   ]
  },
  {
   "cell_type": "code",
   "execution_count": null,
   "id": "c564df78-3c64-4025-baf0-d428555ed367",
   "metadata": {},
   "outputs": [],
   "source": [
    "# Save the lookalike data to CSV\n",
    "lookalike_df.to_csv('Lookalike.csv', index=False)\n",
    "\n",
    "lookalike_csv_path"
   ]
  }
 ],
 "metadata": {
  "kernelspec": {
   "display_name": "Python 3 (ipykernel)",
   "language": "python",
   "name": "python3"
  },
  "language_info": {
   "codemirror_mode": {
    "name": "ipython",
    "version": 3
   },
   "file_extension": ".py",
   "mimetype": "text/x-python",
   "name": "python",
   "nbconvert_exporter": "python",
   "pygments_lexer": "ipython3",
   "version": "3.12.2"
  }
 },
 "nbformat": 4,
 "nbformat_minor": 5
}
